{
 "cells": [
  {
   "cell_type": "markdown",
   "metadata": {},
   "source": [
    "# Subreddit scrapper\n",
    "\n",
    "### Background           : \n",
    "With falling birthrates in singapore, there is a need to understand the issues faced by couples entering or exiting marriage. In order to start off this study, 100,000 couples choose to give their consent to their social media accounts. However it is unclear about their current 'marriage' status.\n",
    "\n",
    "### Problem statement    : \n",
    "There is a need to segregate these couples into their martial status category. Asking this question might be sensitive, especially towards couples 'recencently divorced'. Hence come out with a classifier based on the 2 topics to classify these 100,000 couples into their martial status. \n",
    "\n",
    "Topics choosen: \n",
    "                1. Marriage\n",
    "                2. Divorice\n",
    "\n",
    "Classify any written post on the 2 topics choosen into the correct categories. \n",
    "\n",
    "### My position          :\n",
    "My position is as a data science consultant to the agency conducting this study.\n",
    "\n",
    "### My Audience Position :\n",
    "My audience position is the agency carrying out this martial study.\n"
   ]
  },
  {
   "cell_type": "markdown",
   "metadata": {},
   "source": [
    "## Overall Workflow \n",
    "1. WebScraping off reddit\n",
    "2. Datacleaning and EDA on 'Text feature'\n",
    "3. Modelling\n",
    "4. Trial run before employing the model on audience"
   ]
  },
  {
   "cell_type": "markdown",
   "metadata": {},
   "source": [
    "### Web Scraping off reddit"
   ]
  },
  {
   "cell_type": "markdown",
   "metadata": {},
   "source": [
    "#### Import Libraries"
   ]
  },
  {
   "cell_type": "code",
   "execution_count": 1,
   "metadata": {},
   "outputs": [],
   "source": [
    "from selenium import webdriver\n",
    "from bs4 import BeautifulSoup as bs\n",
    "import requests\n",
    "import random\n",
    "import time\n",
    "import pandas as pd\n",
    "import numpy as np"
   ]
  },
  {
   "cell_type": "markdown",
   "metadata": {},
   "source": [
    "#### Indicate topics choosen"
   ]
  },
  {
   "cell_type": "code",
   "execution_count": 2,
   "metadata": {},
   "outputs": [],
   "source": [
    "topic1 = 'Marriage' \n",
    "topic2 = 'Divorce'"
   ]
  },
  {
   "cell_type": "code",
   "execution_count": 3,
   "metadata": {},
   "outputs": [],
   "source": [
    "cat1_url = 'r/' + topic1 +'.json'\n",
    "cat2_url = 'r/' + topic2 +'.json'"
   ]
  },
  {
   "cell_type": "code",
   "execution_count": 4,
   "metadata": {},
   "outputs": [],
   "source": [
    "base_url = 'https://www.reddit.com/'"
   ]
  },
  {
   "cell_type": "code",
   "execution_count": 5,
   "metadata": {},
   "outputs": [],
   "source": [
    "#### function for retrieving reddit post"
   ]
  },
  {
   "cell_type": "code",
   "execution_count": 16,
   "metadata": {
    "scrolled": true
   },
   "outputs": [],
   "source": [
    "def get_post(input_url,posts,len_wanted,position = None):\n",
    "    after = position\n",
    "    segments=0\n",
    "    url_used = []\n",
    "    while len(posts) < len_wanted:\n",
    "        print('{} segment'.format(segments))\n",
    "        \n",
    "        for a in range(10): #run 250 post per check\n",
    "            \n",
    "            if after == None:\n",
    "                current_url = base_url + input_url\n",
    "                url_used.append(current_url)\n",
    "            else:\n",
    "                current_url = base_url + input_url + '?after=' + after\n",
    "                \n",
    "                if current_url in url_used:\n",
    "                    print('LENGTH OF POST RETRIEVE FROM REDDIT : {}'.format(len(posts)))\n",
    "                    return  \n",
    "                else:\n",
    "                    url_used.append(current_url)\n",
    "                \n",
    "\n",
    "            print(a,' : ',current_url)\n",
    "            \n",
    "            user_agent= '{} Inc {}'.format(random.randint(30,100), random.randint(1000,10000))\n",
    "            res = requests.get(current_url, headers={'User-agent': user_agent})\n",
    "\n",
    "            if res.status_code != 200:\n",
    "                print('Status error', res.status_code)\n",
    "                break\n",
    "\n",
    "            current_dict = res.json()\n",
    "            current_posts=[]\n",
    "\n",
    "            for p in current_dict['data']['children']:\n",
    "                if len(p['data']['selftext'].split()) > 10  : # set minimum requirement\n",
    "                    current_posts.append(p['data']) \n",
    "\n",
    "            if len(current_posts) != 0:\n",
    "                posts.extend(current_posts)\n",
    "\n",
    "            after = current_dict['data']['after']\n",
    "            \n",
    "        segments += 1\n",
    "        print(segments,len(posts))\n",
    "            \n",
    "        sleep_duration = random.randint(2,5)\n",
    "        print('sleeping time : '+ str(sleep_duration))\n",
    "        time.sleep(sleep_duration)\n",
    "    \n",
    "    \n",
    "    return "
   ]
  },
  {
   "cell_type": "markdown",
   "metadata": {},
   "source": [
    "### 1. Marriage"
   ]
  },
  {
   "cell_type": "code",
   "execution_count": 17,
   "metadata": {
    "scrolled": true
   },
   "outputs": [
    {
     "name": "stdout",
     "output_type": "stream",
     "text": [
      "0 segment\n",
      "0  :  https://www.reddit.com/r/Marriage.json\n",
      "1  :  https://www.reddit.com/r/Marriage.json?after=t3_dlhuil\n",
      "2  :  https://www.reddit.com/r/Marriage.json?after=t3_dkgc65\n",
      "3  :  https://www.reddit.com/r/Marriage.json?after=t3_djmnce\n",
      "4  :  https://www.reddit.com/r/Marriage.json?after=t3_djk63d\n",
      "5  :  https://www.reddit.com/r/Marriage.json?after=t3_di2bvx\n",
      "6  :  https://www.reddit.com/r/Marriage.json?after=t3_di24cz\n",
      "7  :  https://www.reddit.com/r/Marriage.json?after=t3_dham36\n",
      "8  :  https://www.reddit.com/r/Marriage.json?after=t3_dgc3ms\n",
      "9  :  https://www.reddit.com/r/Marriage.json?after=t3_dfkfq6\n",
      "1 224\n",
      "sleeping time : 2\n",
      "1 segment\n",
      "0  :  https://www.reddit.com/r/Marriage.json?after=t3_dej4gn\n",
      "1  :  https://www.reddit.com/r/Marriage.json?after=t3_ded53j\n",
      "2  :  https://www.reddit.com/r/Marriage.json?after=t3_ddkjwj\n",
      "3  :  https://www.reddit.com/r/Marriage.json?after=t3_dcphr9\n",
      "4  :  https://www.reddit.com/r/Marriage.json?after=t3_dbviwb\n",
      "5  :  https://www.reddit.com/r/Marriage.json?after=t3_dbdquw\n",
      "6  :  https://www.reddit.com/r/Marriage.json?after=t3_daw0kc\n",
      "7  :  https://www.reddit.com/r/Marriage.json?after=t3_d9xoex\n",
      "8  :  https://www.reddit.com/r/Marriage.json?after=t3_d9e9zl\n",
      "9  :  https://www.reddit.com/r/Marriage.json?after=t3_d8bh7h\n",
      "2 443\n",
      "sleeping time : 4\n",
      "2 segment\n",
      "0  :  https://www.reddit.com/r/Marriage.json?after=t3_d7silx\n",
      "1  :  https://www.reddit.com/r/Marriage.json?after=t3_d6jgbm\n",
      "2  :  https://www.reddit.com/r/Marriage.json?after=t3_d5kg1j\n",
      "3  :  https://www.reddit.com/r/Marriage.json?after=t3_d599dd\n",
      "4  :  https://www.reddit.com/r/Marriage.json?after=t3_d4w7ga\n",
      "5  :  https://www.reddit.com/r/Marriage.json?after=t3_d4ahbw\n",
      "6  :  https://www.reddit.com/r/Marriage.json?after=t3_d34xvy\n",
      "7  :  https://www.reddit.com/r/Marriage.json?after=t3_d2th9v\n",
      "8  :  https://www.reddit.com/r/Marriage.json?after=t3_d1zzra\n",
      "9  :  https://www.reddit.com/r/Marriage.json?after=t3_d15waa\n",
      "3 646\n",
      "sleeping time : 5\n",
      "3 segment\n",
      "0  :  https://www.reddit.com/r/Marriage.json?after=t3_d047vd\n",
      "1  :  https://www.reddit.com/r/Marriage.json?after=t3_czre06\n",
      "2  :  https://www.reddit.com/r/Marriage.json?after=t3_cyuimq\n",
      "3  :  https://www.reddit.com/r/Marriage.json?after=t3_cy5zke\n",
      "4  :  https://www.reddit.com/r/Marriage.json?after=t3_cxb3wt\n",
      "5  :  https://www.reddit.com/r/Marriage.json\n",
      "LENGTH OF POST RETRIEVE FROM REDDIT : 756\n"
     ]
    },
    {
     "data": {
      "text/plain": [
       "'t3_dlhuil'"
      ]
     },
     "execution_count": 17,
     "metadata": {},
     "output_type": "execute_result"
    }
   ],
   "source": [
    "posts_1=[]\n",
    "get_post(cat1_url,posts_1,2000,None)"
   ]
  },
  {
   "cell_type": "code",
   "execution_count": 18,
   "metadata": {},
   "outputs": [
    {
     "data": {
      "text/plain": [
       "(756, 102)"
      ]
     },
     "execution_count": 18,
     "metadata": {},
     "output_type": "execute_result"
    }
   ],
   "source": [
    "df_cat1 = pd.DataFrame(posts_1)\n",
    "df_cat1.shape"
   ]
  },
  {
   "cell_type": "code",
   "execution_count": 19,
   "metadata": {},
   "outputs": [],
   "source": [
    "def save_file(posts, topic):\n",
    "    csv = '{}.csv'.format(topic) \n",
    "    pd.DataFrame(posts).to_csv(csv, index = False)\n"
   ]
  },
  {
   "cell_type": "code",
   "execution_count": 20,
   "metadata": {},
   "outputs": [],
   "source": [
    "save_file(posts_1,topic1)"
   ]
  },
  {
   "cell_type": "markdown",
   "metadata": {},
   "source": [
    "### 2. Divorce"
   ]
  },
  {
   "cell_type": "code",
   "execution_count": 21,
   "metadata": {},
   "outputs": [
    {
     "name": "stdout",
     "output_type": "stream",
     "text": [
      "0 segment\n",
      "0  :  https://www.reddit.com/r/Divorce.json\n",
      "1  :  https://www.reddit.com/r/Divorce.json?after=t3_dloba2\n",
      "2  :  https://www.reddit.com/r/Divorce.json?after=t3_dlo8ut\n",
      "3  :  https://www.reddit.com/r/Divorce.json?after=t3_dl53h1\n",
      "4  :  https://www.reddit.com/r/Divorce.json?after=t3_dkqjhf\n",
      "5  :  https://www.reddit.com/r/Divorce.json?after=t3_dkqipq\n",
      "6  :  https://www.reddit.com/r/Divorce.json?after=t3_dkfcuc\n",
      "7  :  https://www.reddit.com/r/Divorce.json?after=t3_dk66d2\n",
      "8  :  https://www.reddit.com/r/Divorce.json?after=t3_djwnwm\n",
      "9  :  https://www.reddit.com/r/Divorce.json?after=t3_djj28w\n",
      "1 242\n",
      "sleeping time : 3\n",
      "1 segment\n",
      "0  :  https://www.reddit.com/r/Divorce.json?after=t3_diwvpn\n",
      "1  :  https://www.reddit.com/r/Divorce.json?after=t3_diyatt\n",
      "2  :  https://www.reddit.com/r/Divorce.json?after=t3_dio8r5\n",
      "3  :  https://www.reddit.com/r/Divorce.json?after=t3_dig2ek\n",
      "4  :  https://www.reddit.com/r/Divorce.json?after=t3_di5gdu\n",
      "5  :  https://www.reddit.com/r/Divorce.json?after=t3_dhrq96\n",
      "6  :  https://www.reddit.com/r/Divorce.json?after=t3_dhmlfa\n",
      "7  :  https://www.reddit.com/r/Divorce.json?after=t3_dhern3\n",
      "8  :  https://www.reddit.com/r/Divorce.json?after=t3_dh5n1t\n",
      "9  :  https://www.reddit.com/r/Divorce.json?after=t3_dgrreh\n",
      "2 487\n",
      "sleeping time : 4\n",
      "2 segment\n",
      "0  :  https://www.reddit.com/r/Divorce.json?after=t3_dgkv2b\n",
      "1  :  https://www.reddit.com/r/Divorce.json?after=t3_dgerec\n",
      "2  :  https://www.reddit.com/r/Divorce.json?after=t3_dg5bc3\n",
      "3  :  https://www.reddit.com/r/Divorce.json?after=t3_dfqe7h\n",
      "4  :  https://www.reddit.com/r/Divorce.json?after=t3_dexj3i\n",
      "5  :  https://www.reddit.com/r/Divorce.json?after=t3_deqnyv\n",
      "6  :  https://www.reddit.com/r/Divorce.json?after=t3_dev7zp\n",
      "7  :  https://www.reddit.com/r/Divorce.json?after=t3_dekoz1\n",
      "8  :  https://www.reddit.com/r/Divorce.json?after=t3_de5idt\n",
      "9  :  https://www.reddit.com/r/Divorce.json?after=t3_ddtip8\n",
      "3 732\n",
      "sleeping time : 2\n",
      "3 segment\n",
      "0  :  https://www.reddit.com/r/Divorce.json?after=t3_ddwggw\n",
      "1  :  https://www.reddit.com/r/Divorce.json?after=t3_dd8usf\n",
      "2  :  https://www.reddit.com/r/Divorce.json?after=t3_ddg2i0\n",
      "3  :  https://www.reddit.com/r/Divorce.json?after=t3_dcwslr\n",
      "4  :  https://www.reddit.com/r/Divorce.json?after=t3_dcj0zo\n",
      "5  :  https://www.reddit.com/r/Divorce.json?after=t3_dcdooz\n",
      "6  :  https://www.reddit.com/r/Divorce.json?after=t3_dc375k\n",
      "7  :  https://www.reddit.com/r/Divorce.json?after=t3_dbt9gc\n",
      "8  :  https://www.reddit.com/r/Divorce.json?after=t3_dbbdwb\n",
      "9  :  https://www.reddit.com/r/Divorce.json?after=t3_dav8c2\n",
      "4 973\n",
      "sleeping time : 4\n",
      "4 segment\n",
      "0  :  https://www.reddit.com/r/Divorce.json\n",
      "LENGTH OF POST RETRIEVE FROM REDDIT : 999\n"
     ]
    },
    {
     "data": {
      "text/plain": [
       "'t3_dloba2'"
      ]
     },
     "execution_count": 21,
     "metadata": {},
     "output_type": "execute_result"
    }
   ],
   "source": [
    "posts_2=[]\n",
    "get_post(cat2_url,posts_2,2000,None)"
   ]
  },
  {
   "cell_type": "code",
   "execution_count": 22,
   "metadata": {},
   "outputs": [
    {
     "data": {
      "text/plain": [
       "(999, 98)"
      ]
     },
     "execution_count": 22,
     "metadata": {},
     "output_type": "execute_result"
    }
   ],
   "source": [
    "df_cat2 = pd.DataFrame(posts_2)\n",
    "df_cat2.shape"
   ]
  },
  {
   "cell_type": "code",
   "execution_count": 23,
   "metadata": {},
   "outputs": [],
   "source": [
    "save_file(posts_2,topic2)"
   ]
  }
 ],
 "metadata": {
  "kernelspec": {
   "display_name": "Python 3",
   "language": "python",
   "name": "python3"
  },
  "language_info": {
   "codemirror_mode": {
    "name": "ipython",
    "version": 3
   },
   "file_extension": ".py",
   "mimetype": "text/x-python",
   "name": "python",
   "nbconvert_exporter": "python",
   "pygments_lexer": "ipython3",
   "version": "3.7.3"
  },
  "toc": {
   "base_numbering": 1,
   "nav_menu": {},
   "number_sections": true,
   "sideBar": true,
   "skip_h1_title": false,
   "title_cell": "Table of Contents",
   "title_sidebar": "Contents",
   "toc_cell": false,
   "toc_position": {},
   "toc_section_display": true,
   "toc_window_display": false
  }
 },
 "nbformat": 4,
 "nbformat_minor": 2
}
