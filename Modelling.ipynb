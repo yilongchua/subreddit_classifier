{
 "cells": [
  {
   "cell_type": "markdown",
   "metadata": {},
   "source": [
    "# Modelling\n",
    "### Modelling approaches:\n",
    "Vectorizering approach\n",
    "1. Countvecctorizer\n",
    "2. TfidfVectorizer\n",
    "\n",
    "Modelling Approach\n",
    "1. LogisticRegression\n",
    "2. Multinomial"
   ]
  },
  {
   "cell_type": "code",
   "execution_count": 101,
   "metadata": {},
   "outputs": [],
   "source": [
    "# Import libraries\n",
    "import numpy as np\n",
    "import pandas as pd\n",
    "import matplotlib.pyplot as plt\n",
    "import seaborn as sns\n",
    "\n",
    "from sklearn.model_selection import train_test_split, cross_val_score\n",
    "\n",
    "import warnings\n",
    "from warnings import filterwarnings\n",
    "filterwarnings('ignore')\n",
    "\n",
    "%matplotlib inline\n",
    "sns.set(font_scale=1.5)"
   ]
  },
  {
   "cell_type": "code",
   "execution_count": 102,
   "metadata": {},
   "outputs": [],
   "source": [
    "#Import csv\n",
    "df = pd.read_csv('textfeature.csv')"
   ]
  },
  {
   "cell_type": "code",
   "execution_count": 103,
   "metadata": {},
   "outputs": [
    {
     "data": {
      "text/html": [
       "<div>\n",
       "<style scoped>\n",
       "    .dataframe tbody tr th:only-of-type {\n",
       "        vertical-align: middle;\n",
       "    }\n",
       "\n",
       "    .dataframe tbody tr th {\n",
       "        vertical-align: top;\n",
       "    }\n",
       "\n",
       "    .dataframe thead th {\n",
       "        text-align: right;\n",
       "    }\n",
       "</style>\n",
       "<table border=\"1\" class=\"dataframe\">\n",
       "  <thead>\n",
       "    <tr style=\"text-align: right;\">\n",
       "      <th></th>\n",
       "      <th>text_feature</th>\n",
       "      <th>subreddit</th>\n",
       "    </tr>\n",
       "  </thead>\n",
       "  <tbody>\n",
       "    <tr>\n",
       "      <td>0</td>\n",
       "      <td>husband never cheers dont know itwhen fight sa...</td>\n",
       "      <td>1</td>\n",
       "    </tr>\n",
       "    <tr>\n",
       "      <td>1</td>\n",
       "      <td>things wished knew getting married general lif...</td>\n",
       "      <td>1</td>\n",
       "    </tr>\n",
       "    <tr>\n",
       "      <td>2</td>\n",
       "      <td>cant allso going sound awful goes ive married ...</td>\n",
       "      <td>1</td>\n",
       "    </tr>\n",
       "    <tr>\n",
       "      <td>3</td>\n",
       "      <td>engagement ring men fianc got engaged week ago...</td>\n",
       "      <td>1</td>\n",
       "    </tr>\n",
       "    <tr>\n",
       "      <td>4</td>\n",
       "      <td>happily married still think women recently got...</td>\n",
       "      <td>1</td>\n",
       "    </tr>\n",
       "  </tbody>\n",
       "</table>\n",
       "</div>"
      ],
      "text/plain": [
       "                                        text_feature  subreddit\n",
       "0  husband never cheers dont know itwhen fight sa...          1\n",
       "1  things wished knew getting married general lif...          1\n",
       "2  cant allso going sound awful goes ive married ...          1\n",
       "3  engagement ring men fianc got engaged week ago...          1\n",
       "4  happily married still think women recently got...          1"
      ]
     },
     "execution_count": 103,
     "metadata": {},
     "output_type": "execute_result"
    }
   ],
   "source": [
    "df.head()"
   ]
  },
  {
   "cell_type": "code",
   "execution_count": 104,
   "metadata": {},
   "outputs": [],
   "source": [
    "from sklearn.linear_model import LogisticRegression\n",
    "from sklearn.pipeline import make_pipeline\n",
    "from sklearn.metrics import roc_auc_score\n",
    "from sklearn.naive_bayes import MultinomialNB\n",
    "from sklearn.feature_extraction.text import CountVectorizer\n",
    "from sklearn.feature_extraction.text import TfidfVectorizer\n",
    "\n",
    "\n",
    "from sklearn.pipeline import Pipeline\n",
    "from sklearn.feature_extraction.text import TfidfTransformer\n",
    "from sklearn.model_selection import GridSearchCV\n",
    "\n",
    "from sklearn.metrics import roc_auc_score\n",
    "\n",
    "from sklearn.metrics import confusion_matrix\n"
   ]
  },
  {
   "cell_type": "markdown",
   "metadata": {},
   "source": [
    "#### Define X and y\n",
    "1. Check between CountVectorizer and Tfidfvectorizer which approach would provide a better scoring\n",
    "2. Employ Logistic Regression"
   ]
  },
  {
   "cell_type": "code",
   "execution_count": 105,
   "metadata": {},
   "outputs": [],
   "source": [
    "X = df.text_feature\n",
    "y = df.subreddit\n",
    "X_train, X_test, y_train, y_test = train_test_split(X,y,test_size=0.20,random_state=27,stratify=y)"
   ]
  },
  {
   "cell_type": "markdown",
   "metadata": {},
   "source": [
    "Basline score is as follows"
   ]
  },
  {
   "cell_type": "code",
   "execution_count": 106,
   "metadata": {
    "scrolled": true
   },
   "outputs": [
    {
     "data": {
      "text/plain": [
       "0    0.570175\n",
       "1    0.429825\n",
       "Name: subreddit, dtype: float64"
      ]
     },
     "execution_count": 106,
     "metadata": {},
     "output_type": "execute_result"
    }
   ],
   "source": [
    "y_train.value_counts(normalize=True)"
   ]
  },
  {
   "cell_type": "markdown",
   "metadata": {},
   "source": [
    "Baseline accuracy approximately is 57% "
   ]
  },
  {
   "cell_type": "code",
   "execution_count": 107,
   "metadata": {},
   "outputs": [],
   "source": [
    "cat1,cat2 = 'Marriage', 'Divorce'"
   ]
  },
  {
   "cell_type": "markdown",
   "metadata": {},
   "source": [
    "#Countvectorizer and LogisticRegression"
   ]
  },
  {
   "cell_type": "code",
   "execution_count": 108,
   "metadata": {},
   "outputs": [
    {
     "name": "stdout",
     "output_type": "stream",
     "text": [
      "cv_score : 0.8983713977431103, roc_auc_score : 0.831981981981982\n",
      "Number of features : 12023\n"
     ]
    }
   ],
   "source": [
    "log_model = make_pipeline(CountVectorizer(),\n",
    "                         LogisticRegression(solver='lbfgs', multi_class='auto', random_state=27)\n",
    "                         )\n",
    "cv_score = cross_val_score(log_model,X_train,y_train,cv=10, scoring ='roc_auc')\n",
    "log_model.fit(X_train,y_train)\n",
    "pred = log_model.predict(X_test)\n",
    "score = roc_auc_score(y_test,pred)\n",
    "print('cv_score : {}, roc_auc_score : {}'.format(cv_score.mean(),score))\n",
    "print('Number of features : {}'.format(len(log_model.named_steps.countvectorizer.get_feature_names())))"
   ]
  },
  {
   "cell_type": "markdown",
   "metadata": {},
   "source": [
    "#Tfidfvectorizer and LogisticRegression"
   ]
  },
  {
   "cell_type": "code",
   "execution_count": 109,
   "metadata": {},
   "outputs": [
    {
     "name": "stdout",
     "output_type": "stream",
     "text": [
      "cv_score : 0.9340365508249786, roc_auc_score : 0.8499306999306999\n",
      "Number of features : 12023\n"
     ]
    }
   ],
   "source": [
    "log_model = make_pipeline(TfidfVectorizer(),\n",
    "                         LogisticRegression(solver='lbfgs', multi_class='auto', random_state=27)\n",
    "                         )\n",
    "cv_score = cross_val_score(log_model,X_train,y_train,cv=10, scoring ='roc_auc')\n",
    "log_model.fit(X_train,y_train)\n",
    "pred = log_model.predict(X_test)\n",
    "score = roc_auc_score(y_test,pred)\n",
    "print('cv_score : {}, roc_auc_score : {}'.format(cv_score.mean(),score))\n",
    "print('Number of features : {}'.format(len(log_model.named_steps.tfidfvectorizer.get_feature_names())))"
   ]
  },
  {
   "cell_type": "markdown",
   "metadata": {},
   "source": [
    " 1. TFIDF Vectoriser perform better compare to count vectorizer in both cv_score and roc_auc_score\n",
    " 2. #Gridsearch using both Tfidfvectorizer and employ parameters to gridsearch."
   ]
  },
  {
   "cell_type": "code",
   "execution_count": 110,
   "metadata": {},
   "outputs": [
    {
     "name": "stdout",
     "output_type": "stream",
     "text": [
      "Fitting 10 folds for each of 48 candidates, totalling 480 fits\n"
     ]
    },
    {
     "name": "stderr",
     "output_type": "stream",
     "text": [
      "[Parallel(n_jobs=-1)]: Using backend LokyBackend with 4 concurrent workers.\n",
      "[Parallel(n_jobs=-1)]: Done  42 tasks      | elapsed:   38.9s\n",
      "[Parallel(n_jobs=-1)]: Done 192 tasks      | elapsed:  2.8min\n",
      "[Parallel(n_jobs=-1)]: Done 442 tasks      | elapsed:  6.7min\n",
      "[Parallel(n_jobs=-1)]: Done 480 out of 480 | elapsed:  7.2min finished\n"
     ]
    },
    {
     "name": "stdout",
     "output_type": "stream",
     "text": [
      "Best params: {'cvec__max_df': 0.9, 'cvec__max_features': 3000, 'cvec__min_df': 0.0, 'cvec__ngram_range': (1, 3), 'cvec__stop_words': 'english'}\n",
      "Train score: 0.8998, Test score 0.8235\n",
      "Number of features: 3000\n"
     ]
    }
   ],
   "source": [
    "pipe = Pipeline([\n",
    "    ('cvec', CountVectorizer()),\n",
    "    ('lr', LogisticRegression())\n",
    "])\n",
    "# Explore parameters for Tfidfvectorizer\n",
    "params = dict(\n",
    "    cvec__stop_words = [None, 'english'],\n",
    "    cvec__max_df = [0.90, 1.0],\n",
    "    cvec__min_df = [0.0 , 0.01],\n",
    "    cvec__ngram_range = [(1, 1), (1, 3)],\n",
    "    cvec__max_features = [500,1000,3000]  \n",
    ")\n",
    "\n",
    "lr_cvec = GridSearchCV(pipe, params, cv = 10, scoring='roc_auc', iid=False, n_jobs=-1, verbose=1)\n",
    "lr_cvec.fit(X_train, y_train)\n",
    "\n",
    "best_prams   = lr_cvec.best_params_\n",
    "train_score  = lr_cvec.best_score_\n",
    "feature_name = lr_cvec.best_estimator_.named_steps.cvec.get_feature_names()\n",
    "\n",
    "#Initialise the model\n",
    "parameter = dict((k.replace('cvec__',''),v) for k,v in lr_cvec.best_params_.items())\n",
    "\n",
    "lr_cvec_model = make_pipeline(CountVectorizer(**parameter),LogisticRegression())\n",
    "lr_cvec_model.fit(X_train,y_train)\n",
    "pred = lr_cvec_model.predict(X_test)\n",
    "test_score = roc_auc_score(y_test,pred)\n",
    "\n",
    "print(\"Best params: {}\".format(best_prams))\n",
    "print('Train score: {}, Test score {}'.format(round(train_score, 4), round(test_score, 4)))\n",
    "print('Number of features: {}'.format(len(feature_name)))\n"
   ]
  },
  {
   "cell_type": "code",
   "execution_count": 111,
   "metadata": {},
   "outputs": [],
   "source": [
    "#Functions to Plot ROC curve with AUC scoring\n",
    "# Define function to calculate sensitivity. (True positive rate.)\n",
    "def TPR(df, true_col, pred_prob_col, threshold):\n",
    "    true_positive = df[(df[true_col] == 1) & (df[pred_prob_col] >= threshold)].shape[0]\n",
    "    false_negative = df[(df[true_col] == 1) & (df[pred_prob_col] < threshold)].shape[0]\n",
    "    return true_positive / (true_positive + false_negative)\n",
    "    \n",
    "\n",
    "# Define function to calculate 1 - specificity. (False positive rate.)\n",
    "def FPR(df, true_col, pred_prob_col, threshold):\n",
    "    true_negative = df[(df[true_col] == 0) & (df[pred_prob_col] <= threshold)].shape[0]\n",
    "    false_positive = df[(df[true_col] == 0) & (df[pred_prob_col] > threshold)].shape[0]\n",
    "    return 1 - (true_negative / (true_negative + false_positive))\n",
    "\n",
    "def Calculate(pred_df,thresholds):\n",
    "    # Calculate sensitivity & 1-specificity for each threshold between 0 and 1.\n",
    "    tpr_values = [TPR(pred_df, 'true_values', 'pred_probs', prob) for prob in thresholds]\n",
    "    fpr_values = [FPR(pred_df, 'true_values', 'pred_probs', prob) for prob in thresholds]\n",
    "    \n",
    "    return tpr_values,fpr_values\n",
    "\n",
    "def ROC_curve(y_test, X_test,model):\n",
    "    \n",
    "    pred_proba = [i[1] for i in model.predict_proba(X_test)]\n",
    "\n",
    "    pred_df = pd.DataFrame({'true_values': y_test,\n",
    "                           'pred_probs': pred_proba})\n",
    "\n",
    "    roc_auc_score(pred_df['true_values'], pred_df['pred_probs'])\n",
    "\n",
    "    # Create figure.\n",
    "    plt.figure(figsize = (10,7))\n",
    "\n",
    "    # Create threshold values. (Dashed red line in image.)\n",
    "    thresholds = np.linspace(0, 1, 200)\n",
    "    \n",
    "    tpr_values,fpr_values = Calculate(pred_df,thresholds)\n",
    "    \n",
    "    # Plot ROC curve.\n",
    "    plt.plot(fpr_values, # False Positive Rate on X-axis\n",
    "             tpr_values, # True Positive Rate on Y-axis\n",
    "             label='ROC Curve')\n",
    "\n",
    "    # Plot baseline. (Perfect overlap between the two populations.)\n",
    "    plt.plot(np.linspace(0, 1, 200),\n",
    "             np.linspace(0, 1, 200),\n",
    "             label='baseline',\n",
    "             linestyle='--')\n",
    "\n",
    "    # Label axes.\n",
    "    plt.title(f'ROC Curve with AUC = {round(roc_auc_score(pred_df[\"true_values\"], pred_df[\"pred_probs\"]),3)}', fontsize=22)\n",
    "    plt.ylabel('Sensitivity', fontsize=18)\n",
    "    plt.xlabel('1 - Specificity', fontsize=18)\n",
    "\n",
    "    # Create legend.\n",
    "    plt.legend(fontsize=16);\n",
    "              \n",
    "def confusion(X_test,y_test,model):\n",
    "    pred = model.predict(X_test)\n",
    "    df_confusion = pd.DataFrame(confusion_matrix(y_test,pred), \n",
    "             index = ['Predict {}'.format(cat1), 'Predict {}'.format(cat2)],\n",
    "             columns = ['actual  {}'.format(cat1), 'actual  {}'.format(cat2)]\n",
    "            )\n",
    "    display(df_confusion)\n",
    "    tn, fp, fn, tp = confusion_matrix(y_test, pred).ravel()\n",
    "    \n",
    "    accuracy          = round((tp+tn)/(tp+fp+tn+fn),4)*100\n",
    "    misclassification = round((fp+fn)/(tp+fp+tn+fn),4)*100\n",
    "    precision         = round(tp/(tp+fp),4) * 100\n",
    "    \n",
    "    print('** Accuracy %: {}% **'     .format(accuracy))\n",
    "    print('Misclassification %: {}&'.format(misclassification))\n",
    "    print('Precision %: {}'           .format(round(tp/(tp+fp),4)))\n",
    "    print('Recall: {}'                .format(round(tp/(tp+fn),4)))\n",
    "    print('Specificity: {}'           .format(round(tn/(tn+fp),4)))\n",
    "    \n",
    "    return accuracy, misclassification\n",
    "              \n",
    "combine_info=[]\n",
    "def print_out(gs,best_prams,train_score,test_score,feature_name,model ):\n",
    "    print('''\n",
    "    ###########################\n",
    "    {} model\n",
    "    ###########################    \n",
    "    '''.format(gs))\n",
    "    print(\"Best params: {}\".format(best_prams))\n",
    "    print('Train score: {}, Test score {}'.format(train_score, test_score))\n",
    "    print('Number of features: {}'.format(len(feature_name)))\n",
    "\n",
    "    accuracy,misclassification = confusion(X_test,y_test,model)\n",
    "    \n",
    "    ROC_curve(y_test,X_test,model)\n",
    "    \n",
    "    ls = [gs,train_score,test_score,len(feature_name),accuracy,misclassification]\n",
    "    combine_info.append(ls)\n",
    "    return \n",
    "\n",
    "\n",
    "              "
   ]
  },
  {
   "cell_type": "code",
   "execution_count": 112,
   "metadata": {},
   "outputs": [
    {
     "name": "stdout",
     "output_type": "stream",
     "text": [
      "\n",
      "    ###########################\n",
      "    Cvec_LogisticRegression model\n",
      "    ###########################    \n",
      "    \n",
      "Best params: {'cvec__max_df': 0.9, 'cvec__max_features': 3000, 'cvec__min_df': 0.0, 'cvec__ngram_range': (1, 3), 'cvec__stop_words': 'english'}\n",
      "Train score: 0.8998471429213684, Test score 0.8234753984753985\n",
      "Number of features: 3000\n"
     ]
    },
    {
     "data": {
      "text/html": [
       "<div>\n",
       "<style scoped>\n",
       "    .dataframe tbody tr th:only-of-type {\n",
       "        vertical-align: middle;\n",
       "    }\n",
       "\n",
       "    .dataframe tbody tr th {\n",
       "        vertical-align: top;\n",
       "    }\n",
       "\n",
       "    .dataframe thead th {\n",
       "        text-align: right;\n",
       "    }\n",
       "</style>\n",
       "<table border=\"1\" class=\"dataframe\">\n",
       "  <thead>\n",
       "    <tr style=\"text-align: right;\">\n",
       "      <th></th>\n",
       "      <th>actual  Marriage</th>\n",
       "      <th>actual  Divorce</th>\n",
       "    </tr>\n",
       "  </thead>\n",
       "  <tbody>\n",
       "    <tr>\n",
       "      <td>Predict Marriage</td>\n",
       "      <td>167</td>\n",
       "      <td>28</td>\n",
       "    </tr>\n",
       "    <tr>\n",
       "      <td>Predict Divorce</td>\n",
       "      <td>31</td>\n",
       "      <td>117</td>\n",
       "    </tr>\n",
       "  </tbody>\n",
       "</table>\n",
       "</div>"
      ],
      "text/plain": [
       "                  actual  Marriage  actual  Divorce\n",
       "Predict Marriage               167               28\n",
       "Predict Divorce                 31              117"
      ]
     },
     "metadata": {},
     "output_type": "display_data"
    },
    {
     "name": "stdout",
     "output_type": "stream",
     "text": [
      "** Accuracy %: 82.8% **\n",
      "Misclassification %: 17.2&\n",
      "Precision %: 0.8069\n",
      "Recall: 0.7905\n",
      "Specificity: 0.8564\n"
     ]
    },
    {
     "data": {
      "image/png": "[encoded data removed]",
      "text/plain": [
       "<Figure size 720x504 with 1 Axes>"
      ]
     },
     "metadata": {},
     "output_type": "display_data"
    }
   ],
   "source": [
    "print_out('Cvec_LogisticRegression',best_prams,train_score,test_score,feature_name,lr_cvec_model)"
   ]
  },
  {
   "cell_type": "code",
   "execution_count": 113,
   "metadata": {
    "scrolled": true
   },
   "outputs": [
    {
     "name": "stdout",
     "output_type": "stream",
     "text": [
      "Fitting 10 folds for each of 108 candidates, totalling 1080 fits\n"
     ]
    },
    {
     "name": "stderr",
     "output_type": "stream",
     "text": [
      "[Parallel(n_jobs=-1)]: Using backend LokyBackend with 4 concurrent workers.\n",
      "[Parallel(n_jobs=-1)]: Done  42 tasks      | elapsed:   40.1s\n",
      "[Parallel(n_jobs=-1)]: Done 192 tasks      | elapsed:  2.6min\n",
      "[Parallel(n_jobs=-1)]: Done 442 tasks      | elapsed:  5.4min\n",
      "[Parallel(n_jobs=-1)]: Done 792 tasks      | elapsed:  9.1min\n",
      "[Parallel(n_jobs=-1)]: Done 1080 out of 1080 | elapsed: 12.0min finished\n"
     ]
    },
    {
     "name": "stdout",
     "output_type": "stream",
     "text": [
      "Best params: {'tfidf__max_df': 0.9, 'tfidf__max_features': 3000, 'tfidf__min_df': 0, 'tfidf__ngram_range': (1, 3), 'tfidf__stop_words': 'english'}\n",
      "Train score: 0.9363, Test score 0.8634\n",
      "Number of features: 3000\n"
     ]
    }
   ],
   "source": [
    "pipe = Pipeline([\n",
    "    ('tfidf', TfidfVectorizer()),\n",
    "    ('lr', LogisticRegression())\n",
    "])\n",
    "# Explore parameters for Tfidfvectorizer\n",
    "params = dict(\n",
    "    tfidf__stop_words = [None, 'english'],\n",
    "    tfidf__max_df = (0.90, 0.95, 1.0),\n",
    "    tfidf__min_df = (0,0.01,0.1),\n",
    "    tfidf__ngram_range = [(1, 1),(1,3)],\n",
    "    tfidf__max_features = [500,1000,3000]\n",
    ")\n",
    "\n",
    "lr_tfidf = GridSearchCV(pipe, params, cv = 10, scoring='roc_auc', iid=False, n_jobs=-1, verbose=1)\n",
    "lr_tfidf.fit(X_train, y_train)\n",
    "\n",
    "best_prams   = lr_tfidf.best_params_\n",
    "train_score  = lr_tfidf.best_score_\n",
    "feature_name = lr_tfidf.best_estimator_.named_steps.tfidf.get_feature_names()\n",
    "\n",
    "\n",
    "\n",
    "#Initialise the model\n",
    "parameter = dict((k.replace('tfidf__',''),v) for k,v in lr_tfidf.best_params_.items())\n",
    "\n",
    "lr_tfidf_model = make_pipeline(TfidfVectorizer(**parameter),LogisticRegression())\n",
    "lr_tfidf_model.fit(X_train,y_train)\n",
    "pred = lr_tfidf_model.predict(X_test)\n",
    "test_score = roc_auc_score(y_test,pred)\n",
    "\n",
    "print(\"Best params: {}\".format(best_prams))\n",
    "print('Train score: {}, Test score {}'.format(round(train_score, 4), round(test_score, 4)))\n",
    "print('Number of features: {}'.format(len(feature_name)))"
   ]
  },
  {
   "cell_type": "code",
   "execution_count": 114,
   "metadata": {
    "scrolled": false
   },
   "outputs": [
    {
     "name": "stdout",
     "output_type": "stream",
     "text": [
      "\n",
      "    ###########################\n",
      "    Tfidf_LogisticRegression model\n",
      "    ###########################    \n",
      "    \n",
      "Best params: {'tfidf__max_df': 0.9, 'tfidf__max_features': 3000, 'tfidf__min_df': 0, 'tfidf__ngram_range': (1, 3), 'tfidf__stop_words': 'english'}\n",
      "Train score: 0.9363192914624825, Test score 0.8634442134442135\n",
      "Number of features: 3000\n"
     ]
    },
    {
     "data": {
      "text/html": [
       "<div>\n",
       "<style scoped>\n",
       "    .dataframe tbody tr th:only-of-type {\n",
       "        vertical-align: middle;\n",
       "    }\n",
       "\n",
       "    .dataframe tbody tr th {\n",
       "        vertical-align: top;\n",
       "    }\n",
       "\n",
       "    .dataframe thead th {\n",
       "        text-align: right;\n",
       "    }\n",
       "</style>\n",
       "<table border=\"1\" class=\"dataframe\">\n",
       "  <thead>\n",
       "    <tr style=\"text-align: right;\">\n",
       "      <th></th>\n",
       "      <th>actual  Marriage</th>\n",
       "      <th>actual  Divorce</th>\n",
       "    </tr>\n",
       "  </thead>\n",
       "  <tbody>\n",
       "    <tr>\n",
       "      <td>Predict Marriage</td>\n",
       "      <td>176</td>\n",
       "      <td>19</td>\n",
       "    </tr>\n",
       "    <tr>\n",
       "      <td>Predict Divorce</td>\n",
       "      <td>26</td>\n",
       "      <td>122</td>\n",
       "    </tr>\n",
       "  </tbody>\n",
       "</table>\n",
       "</div>"
      ],
      "text/plain": [
       "                  actual  Marriage  actual  Divorce\n",
       "Predict Marriage               176               19\n",
       "Predict Divorce                 26              122"
      ]
     },
     "metadata": {},
     "output_type": "display_data"
    },
    {
     "name": "stdout",
     "output_type": "stream",
     "text": [
      "** Accuracy %: 86.88% **\n",
      "Misclassification %: 13.120000000000001&\n",
      "Precision %: 0.8652\n",
      "Recall: 0.8243\n",
      "Specificity: 0.9026\n"
     ]
    },
    {
     "data": {
      "image/png": "[encoded data removed]",
      "text/plain": [
       "<Figure size 720x504 with 1 Axes>"
      ]
     },
     "metadata": {},
     "output_type": "display_data"
    }
   ],
   "source": [
    "print_out('Tfidf_LogisticRegression',best_prams,train_score,test_score,feature_name,lr_tfidf_model)"
   ]
  },
  {
   "cell_type": "markdown",
   "metadata": {},
   "source": [
    "TfidfVectoriser perform better for logistic Regression modelling. \n",
    "1. The success of the model is dependent on the accuracy of the model. \n",
    "    Tfidfvectorizer with LogisticRegression accuracy score is approximately 86%, slightly beating out Countvectorizer with Logistic Regression accuracy score of approximately 83%. Both models are extremely close.\n",
    "2. The AUC scoring for ROC curve perform better as for Tfidfvectorizer with Logistic Regression modelling."
   ]
  },
  {
   "cell_type": "markdown",
   "metadata": {},
   "source": [
    "## 2nd approach using MultinomialNB()"
   ]
  },
  {
   "cell_type": "code",
   "execution_count": 115,
   "metadata": {},
   "outputs": [],
   "source": [
    "X = df.text_feature\n",
    "y = df.subreddit\n",
    "X_train, X_test, y_train, y_test = train_test_split(X,y,test_size=0.25,random_state=27,stratify=y)\n"
   ]
  },
  {
   "cell_type": "code",
   "execution_count": 116,
   "metadata": {},
   "outputs": [
    {
     "name": "stdout",
     "output_type": "stream",
     "text": [
      "cv_score : 0.9178562413151454, roc_auc_score : 0.8006503920171062\n",
      "Number of features : 11661\n"
     ]
    }
   ],
   "source": [
    "mnb_model = make_pipeline(CountVectorizer(),MultinomialNB())\n",
    "\n",
    "cv_score = cross_val_score(mnb_model,X_train,y_train,cv=10, scoring ='roc_auc')\n",
    "mnb_model.fit(X_train,y_train)\n",
    "pred = mnb_model.predict(X_test)\n",
    "score = roc_auc_score(y_test,pred)\n",
    "print('cv_score : {}, roc_auc_score : {}'.format(cv_score.mean(),score))\n",
    "print('Number of features : {}'.format(len(mnb_model.named_steps.countvectorizer.get_feature_names())))"
   ]
  },
  {
   "cell_type": "code",
   "execution_count": 117,
   "metadata": {},
   "outputs": [
    {
     "name": "stdout",
     "output_type": "stream",
     "text": [
      "cv_score : 0.909419250686374, roc_auc_score : 0.5855755523877405\n",
      "Number of features : 11661\n"
     ]
    }
   ],
   "source": [
    "mnb_model = make_pipeline(TfidfVectorizer(),MultinomialNB())\n",
    "\n",
    "cv_score = cross_val_score(mnb_model,X_train,y_train,cv=10, scoring ='roc_auc')\n",
    "mnb_model.fit(X_train,y_train)\n",
    "pred = mnb_model.predict(X_test)\n",
    "score = roc_auc_score(y_test,pred)\n",
    "print('cv_score : {}, roc_auc_score : {}'.format(cv_score.mean(),score))\n",
    "print('Number of features : {}'.format(len(mnb_model.named_steps.tfidfvectorizer.get_feature_names())))"
   ]
  },
  {
   "cell_type": "code",
   "execution_count": 118,
   "metadata": {
    "scrolled": false
   },
   "outputs": [
    {
     "name": "stdout",
     "output_type": "stream",
     "text": [
      "Fitting 10 folds for each of 108 candidates, totalling 1080 fits\n"
     ]
    },
    {
     "name": "stderr",
     "output_type": "stream",
     "text": [
      "[Parallel(n_jobs=-1)]: Using backend LokyBackend with 4 concurrent workers.\n",
      "[Parallel(n_jobs=-1)]: Done  42 tasks      | elapsed:   22.0s\n",
      "[Parallel(n_jobs=-1)]: Done 192 tasks      | elapsed:  1.7min\n",
      "[Parallel(n_jobs=-1)]: Done 442 tasks      | elapsed:  4.1min\n",
      "[Parallel(n_jobs=-1)]: Done 792 tasks      | elapsed:  7.2min\n",
      "[Parallel(n_jobs=-1)]: Done 1080 out of 1080 | elapsed: 10.6min finished\n"
     ]
    },
    {
     "name": "stdout",
     "output_type": "stream",
     "text": [
      "Best params: {'cvec__max_df': 0.9, 'cvec__max_features': 3000, 'cvec__min_df': 0.0, 'cvec__ngram_range': (1, 3), 'cvec__stop_words': 'english'}\n",
      "Train score: 0.9207, Test score 0.8311\n",
      "Number of features: 3000\n"
     ]
    }
   ],
   "source": [
    "# Explore parameters for Countvectorizer\n",
    "\n",
    "pipe = Pipeline([\n",
    "    ('cvec', CountVectorizer()),\n",
    "    ('mnb', MultinomialNB())\n",
    "])\n",
    "\n",
    "params = dict(\n",
    "    cvec__stop_words = [None, 'english'],\n",
    "    cvec__max_df = [0.90, 0.98, 1.0],\n",
    "    cvec__min_df = [0.0 , 0.01, 0.1],\n",
    "    cvec__ngram_range = [(1, 1), (1, 3)],\n",
    "    cvec__max_features = [500,1000,3000]\n",
    ")\n",
    "\n",
    "mnb_cvec = GridSearchCV(pipe, params, cv = 10, scoring='roc_auc', iid=False, n_jobs=-1, verbose=1)\n",
    "mnb_cvec.fit(X_train, y_train)\n",
    "\n",
    "best_prams   = mnb_cvec.best_params_\n",
    "train_score  = mnb_cvec.best_score_\n",
    "feature_name = mnb_cvec.best_estimator_.named_steps.cvec.get_feature_names()\n",
    "\n",
    "#Initialise the model\n",
    "parameter = dict((k.replace('cvec__',''),v) for k,v in mnb_cvec.best_params_.items())\n",
    "\n",
    "mnb_cvec_model = make_pipeline(CountVectorizer(**parameter),MultinomialNB())\n",
    "mnb_cvec_model.fit(X_train,y_train)\n",
    "pred = mnb_cvec_model.predict(X_test)\n",
    "test_score = roc_auc_score(y_test,pred)\n",
    "\n",
    "print(\"Best params: {}\".format(best_prams))\n",
    "print('Train score: {}, Test score {}'.format(round(train_score, 4), round(test_score, 4)))\n",
    "print('Number of features: {}'.format(len(feature_name)))"
   ]
  },
  {
   "cell_type": "code",
   "execution_count": 119,
   "metadata": {},
   "outputs": [
    {
     "name": "stdout",
     "output_type": "stream",
     "text": [
      "\n",
      "    ###########################\n",
      "    Cvec_MultinomialNB model\n",
      "    ###########################    \n",
      "    \n",
      "Best params: {'cvec__max_df': 0.9, 'cvec__max_features': 3000, 'cvec__min_df': 0.0, 'cvec__ngram_range': (1, 3), 'cvec__stop_words': 'english'}\n",
      "Train score: 0.9206565389442103, Test score 0.8310762651461155\n",
      "Number of features: 3000\n"
     ]
    },
    {
     "data": {
      "text/html": [
       "<div>\n",
       "<style scoped>\n",
       "    .dataframe tbody tr th:only-of-type {\n",
       "        vertical-align: middle;\n",
       "    }\n",
       "\n",
       "    .dataframe tbody tr th {\n",
       "        vertical-align: top;\n",
       "    }\n",
       "\n",
       "    .dataframe thead th {\n",
       "        text-align: right;\n",
       "    }\n",
       "</style>\n",
       "<table border=\"1\" class=\"dataframe\">\n",
       "  <thead>\n",
       "    <tr style=\"text-align: right;\">\n",
       "      <th></th>\n",
       "      <th>actual  Marriage</th>\n",
       "      <th>actual  Divorce</th>\n",
       "    </tr>\n",
       "  </thead>\n",
       "  <tbody>\n",
       "    <tr>\n",
       "      <td>Predict Marriage</td>\n",
       "      <td>204</td>\n",
       "      <td>40</td>\n",
       "    </tr>\n",
       "    <tr>\n",
       "      <td>Predict Divorce</td>\n",
       "      <td>32</td>\n",
       "      <td>152</td>\n",
       "    </tr>\n",
       "  </tbody>\n",
       "</table>\n",
       "</div>"
      ],
      "text/plain": [
       "                  actual  Marriage  actual  Divorce\n",
       "Predict Marriage               204               40\n",
       "Predict Divorce                 32              152"
      ]
     },
     "metadata": {},
     "output_type": "display_data"
    },
    {
     "name": "stdout",
     "output_type": "stream",
     "text": [
      "** Accuracy %: 83.17999999999999% **\n",
      "Misclassification %: 16.82&\n",
      "Precision %: 0.7917\n",
      "Recall: 0.8261\n",
      "Specificity: 0.8361\n"
     ]
    },
    {
     "data": {
      "image/png": "[encoded data removed]",
      "text/plain": [
       "<Figure size 720x504 with 1 Axes>"
      ]
     },
     "metadata": {},
     "output_type": "display_data"
    }
   ],
   "source": [
    "print_out('Cvec_MultinomialNB',best_prams,train_score,test_score,feature_name, mnb_cvec_model)"
   ]
  },
  {
   "cell_type": "code",
   "execution_count": 120,
   "metadata": {
    "scrolled": false
   },
   "outputs": [
    {
     "name": "stdout",
     "output_type": "stream",
     "text": [
      "Fitting 10 folds for each of 48 candidates, totalling 480 fits\n"
     ]
    },
    {
     "name": "stderr",
     "output_type": "stream",
     "text": [
      "[Parallel(n_jobs=-1)]: Using backend LokyBackend with 4 concurrent workers.\n",
      "[Parallel(n_jobs=-1)]: Done  42 tasks      | elapsed:   27.5s\n",
      "[Parallel(n_jobs=-1)]: Done 192 tasks      | elapsed:  2.0min\n",
      "[Parallel(n_jobs=-1)]: Done 442 tasks      | elapsed:  4.6min\n",
      "[Parallel(n_jobs=-1)]: Done 480 out of 480 | elapsed:  5.0min finished\n"
     ]
    },
    {
     "name": "stdout",
     "output_type": "stream",
     "text": [
      "Best params: {'tfidf__max_df': 0.9, 'tfidf__max_features': 3000, 'tfidf__min_df': 0.0, 'tfidf__ngram_range': (1, 3), 'tfidf__stop_words': None}\n",
      "Train score: 0.9293, Test score 0.7716\n",
      "Number of features: 3000\n"
     ]
    }
   ],
   "source": [
    "# Explore parameters for Tfidfvectorizer\n",
    "pipe = Pipeline([\n",
    "    ('tfidf', TfidfVectorizer()),\n",
    "    ('mnb', MultinomialNB())\n",
    "])\n",
    "# print(pipe.get_params().keys())\n",
    "params = dict(\n",
    "    tfidf__stop_words   = [None,'english'],\n",
    "    tfidf__max_df       = [0.90, 1.0],\n",
    "    tfidf__min_df       = [0.0, 0.01],\n",
    "    tfidf__ngram_range  = [(1,1), (1,3)],\n",
    "    tfidf__max_features = [500,1000,3000]\n",
    ")\n",
    "\n",
    "mnb_tfidf = GridSearchCV(pipe,params, cv = 10 , scoring='roc_auc', iid=False, n_jobs=-1, verbose=1)\n",
    "mnb_tfidf.fit(X_train, y_train)\n",
    "\n",
    "best_prams   = mnb_tfidf.best_params_\n",
    "train_score  = mnb_tfidf.best_score_\n",
    "feature_name = mnb_tfidf.best_estimator_.named_steps.tfidf.get_feature_names()\n",
    "\n",
    "#Initialise the model\n",
    "parameter = dict((k.replace('tfidf__',''),v) for k,v in mnb_tfidf.best_params_.items())\n",
    "\n",
    "mnb_tfidf_model = make_pipeline(TfidfVectorizer(**parameter),MultinomialNB())\n",
    "mnb_tfidf_model.fit(X_train,y_train)\n",
    "pred = mnb_tfidf_model.predict(X_test)\n",
    "test_score = roc_auc_score(y_test,pred)\n",
    "\n",
    "print(\"Best params: {}\".format(best_prams))\n",
    "print('Train score: {}, Test score {}'.format(round(train_score, 4), round(test_score, 4)))\n",
    "print('Number of features: {}'.format(len(feature_name)))"
   ]
  },
  {
   "cell_type": "code",
   "execution_count": 121,
   "metadata": {},
   "outputs": [
    {
     "name": "stdout",
     "output_type": "stream",
     "text": [
      "\n",
      "    ###########################\n",
      "    Tfidf_MultinomialNB model\n",
      "    ###########################    \n",
      "    \n",
      "Best params: {'tfidf__max_df': 0.9, 'tfidf__max_features': 3000, 'tfidf__min_df': 0.0, 'tfidf__ngram_range': (1, 3), 'tfidf__stop_words': None}\n",
      "Train score: 0.9292700935680388, Test score 0.7715609408410549\n",
      "Number of features: 3000\n"
     ]
    },
    {
     "data": {
      "text/html": [
       "<div>\n",
       "<style scoped>\n",
       "    .dataframe tbody tr th:only-of-type {\n",
       "        vertical-align: middle;\n",
       "    }\n",
       "\n",
       "    .dataframe tbody tr th {\n",
       "        vertical-align: top;\n",
       "    }\n",
       "\n",
       "    .dataframe thead th {\n",
       "        text-align: right;\n",
       "    }\n",
       "</style>\n",
       "<table border=\"1\" class=\"dataframe\">\n",
       "  <thead>\n",
       "    <tr style=\"text-align: right;\">\n",
       "      <th></th>\n",
       "      <th>actual  Marriage</th>\n",
       "      <th>actual  Divorce</th>\n",
       "    </tr>\n",
       "  </thead>\n",
       "  <tbody>\n",
       "    <tr>\n",
       "      <td>Predict Marriage</td>\n",
       "      <td>228</td>\n",
       "      <td>16</td>\n",
       "    </tr>\n",
       "    <tr>\n",
       "      <td>Predict Divorce</td>\n",
       "      <td>72</td>\n",
       "      <td>112</td>\n",
       "    </tr>\n",
       "  </tbody>\n",
       "</table>\n",
       "</div>"
      ],
      "text/plain": [
       "                  actual  Marriage  actual  Divorce\n",
       "Predict Marriage               228               16\n",
       "Predict Divorce                 72              112"
      ]
     },
     "metadata": {},
     "output_type": "display_data"
    },
    {
     "name": "stdout",
     "output_type": "stream",
     "text": [
      "** Accuracy %: 79.44% **\n",
      "Misclassification %: 20.560000000000002&\n",
      "Precision %: 0.875\n",
      "Recall: 0.6087\n",
      "Specificity: 0.9344\n"
     ]
    },
    {
     "data": {
      "image/png": "[encoded data removed]",
      "text/plain": [
       "<Figure size 720x504 with 1 Axes>"
      ]
     },
     "metadata": {},
     "output_type": "display_data"
    }
   ],
   "source": [
    "print_out('Tfidf_MultinomialNB',best_prams,train_score,test_score,feature_name,mnb_tfidf_model)"
   ]
  },
  {
   "cell_type": "markdown",
   "metadata": {},
   "source": [
    "Surprisingly, Countvectorizer perform better than Tfidfvectorizer when doing MultinomialNB. \n",
    "1. Accuracy socre of Countcevtorzer with MultinomialNB is approximately 83% which is significantly higher as compared to Tfidfvectorizer with MultinomialNB 74.53%. \n",
    "2. However the AUC scoring for ROC curve is almost identical. \n",
    "\n",
    "However Accuracy is the determining factor for this analysis."
   ]
  },
  {
   "cell_type": "markdown",
   "metadata": {},
   "source": [
    "#Overall dataframe"
   ]
  },
  {
   "cell_type": "code",
   "execution_count": 122,
   "metadata": {},
   "outputs": [
    {
     "data": {
      "text/html": [
       "<div>\n",
       "<style scoped>\n",
       "    .dataframe tbody tr th:only-of-type {\n",
       "        vertical-align: middle;\n",
       "    }\n",
       "\n",
       "    .dataframe tbody tr th {\n",
       "        vertical-align: top;\n",
       "    }\n",
       "\n",
       "    .dataframe thead th {\n",
       "        text-align: right;\n",
       "    }\n",
       "</style>\n",
       "<table border=\"1\" class=\"dataframe\">\n",
       "  <thead>\n",
       "    <tr style=\"text-align: right;\">\n",
       "      <th></th>\n",
       "      <th>model</th>\n",
       "      <th>train_score</th>\n",
       "      <th>test_score</th>\n",
       "      <th>number_of_features</th>\n",
       "      <th>accuracy</th>\n",
       "      <th>misclassification</th>\n",
       "    </tr>\n",
       "  </thead>\n",
       "  <tbody>\n",
       "    <tr>\n",
       "      <td>0</td>\n",
       "      <td>Cvec_LogisticRegression</td>\n",
       "      <td>0.899847</td>\n",
       "      <td>0.823475</td>\n",
       "      <td>3000</td>\n",
       "      <td>82.80</td>\n",
       "      <td>17.20</td>\n",
       "    </tr>\n",
       "    <tr>\n",
       "      <td>1</td>\n",
       "      <td>Tfidf_LogisticRegression</td>\n",
       "      <td>0.936319</td>\n",
       "      <td>0.863444</td>\n",
       "      <td>3000</td>\n",
       "      <td>86.88</td>\n",
       "      <td>13.12</td>\n",
       "    </tr>\n",
       "    <tr>\n",
       "      <td>2</td>\n",
       "      <td>Cvec_MultinomialNB</td>\n",
       "      <td>0.920657</td>\n",
       "      <td>0.831076</td>\n",
       "      <td>3000</td>\n",
       "      <td>83.18</td>\n",
       "      <td>16.82</td>\n",
       "    </tr>\n",
       "    <tr>\n",
       "      <td>3</td>\n",
       "      <td>Tfidf_MultinomialNB</td>\n",
       "      <td>0.929270</td>\n",
       "      <td>0.771561</td>\n",
       "      <td>3000</td>\n",
       "      <td>79.44</td>\n",
       "      <td>20.56</td>\n",
       "    </tr>\n",
       "  </tbody>\n",
       "</table>\n",
       "</div>"
      ],
      "text/plain": [
       "                      model  train_score  test_score  number_of_features  \\\n",
       "0   Cvec_LogisticRegression     0.899847    0.823475                3000   \n",
       "1  Tfidf_LogisticRegression     0.936319    0.863444                3000   \n",
       "2        Cvec_MultinomialNB     0.920657    0.831076                3000   \n",
       "3       Tfidf_MultinomialNB     0.929270    0.771561                3000   \n",
       "\n",
       "   accuracy  misclassification  \n",
       "0     82.80              17.20  \n",
       "1     86.88              13.12  \n",
       "2     83.18              16.82  \n",
       "3     79.44              20.56  "
      ]
     },
     "execution_count": 122,
     "metadata": {},
     "output_type": "execute_result"
    }
   ],
   "source": [
    "df_collection = pd.DataFrame(data=combine_info, columns =['model','train_score','test_score','number_of_features', 'accuracy', 'misclassification'])\n",
    "df_collection"
   ]
  },
  {
   "cell_type": "code",
   "execution_count": 123,
   "metadata": {
    "scrolled": false
   },
   "outputs": [
    {
     "data": {
      "text/plain": [
       "['Marriage_Divorce.pkl']"
      ]
     },
     "execution_count": 123,
     "metadata": {},
     "output_type": "execute_result"
    }
   ],
   "source": [
    "# Dump model for production use on deployment\n",
    "import joblib\n",
    "joblib.dump(lr_tfidf_model, 'Marriage_Divorce.pkl')"
   ]
  },
  {
   "cell_type": "markdown",
   "metadata": {},
   "source": [
    "## Conclusion and Recommendations\n",
    "\n",
    "\n",
    "- Our TifdfVectoriser with Logistic Regression classifier performed best out of all 4 models. \n",
    "\n",
    "- The difference in the train and test score is slightly wider than expected. This is probably due to the high amount of features choosen (3000 features per model selected). \n",
    "\n",
    "- The accuracy score of 84% is slightly higher than expected, as seen in the dataframe above. This is within expectations because the topics of our two chosen subreddits differ slightly.\n",
    "\n",
    "- Scope for future improvements:\n",
    "    - Optimize stop words and explore strategies for stemming and lemmatization\n",
    "    - Try ensemble models, such as random forest classifier\n",
    "    - Ability for model to classify more than two subreddits"
   ]
  },
  {
   "cell_type": "markdown",
   "metadata": {},
   "source": [
    "In regards to the problem statement, our model will provide a reasonable accurate classification on the 100,000 couples participating in this study by scraping off their social media webpages.\n",
    "\n",
    "Further development on Sentimental analysis could prove useful especially in regards to dealing with the objective of the project."
   ]
  },
  {
   "cell_type": "code",
   "execution_count": null,
   "metadata": {},
   "outputs": [],
   "source": []
  }
 ],
 "metadata": {
  "kernelspec": {
   "display_name": "Python 3",
   "language": "python",
   "name": "python3"
  },
  "language_info": {
   "codemirror_mode": {
    "name": "ipython",
    "version": 3
   },
   "file_extension": ".py",
   "mimetype": "text/x-python",
   "name": "python",
   "nbconvert_exporter": "python",
   "pygments_lexer": "ipython3",
   "version": "3.7.3"
  },
  "toc": {
   "base_numbering": 1,
   "nav_menu": {},
   "number_sections": true,
   "sideBar": true,
   "skip_h1_title": false,
   "title_cell": "Table of Contents",
   "title_sidebar": "Contents",
   "toc_cell": false,
   "toc_position": {},
   "toc_section_display": true,
   "toc_window_display": false
  }
 },
 "nbformat": 4,
 "nbformat_minor": 2
}
